{
 "cells": [
  {
   "cell_type": "markdown",
   "id": "a4d76c08",
   "metadata": {},
   "source": [
    "# Postgres"
   ]
  },
  {
   "cell_type": "code",
   "execution_count": 2,
   "id": "dc67198b",
   "metadata": {},
   "outputs": [],
   "source": [
    "import os\n",
    "import pandas as pd\n",
    "from sqlalchemy import create_engine, text\n",
    "import sys"
   ]
  },
  {
   "cell_type": "markdown",
   "id": "61030363",
   "metadata": {},
   "source": [
    "### Connexion"
   ]
  },
  {
   "cell_type": "code",
   "execution_count": 4,
   "id": "a1a699fc",
   "metadata": {},
   "outputs": [],
   "source": [
    "def get_db_connection():\n",
    "    \"\"\"Créer la connexion à PostgreSQL via les variables d'environnement\"\"\"\n",
    "    user = os.getenv('POSTGRES_USER')\n",
    "    password = os.getenv('POSTGRES_PASSWORD') \n",
    "    host = os.getenv('POSTGRES_HOST', 'postgres')  # Seul défaut : nom service Docker\n",
    "    port = os.getenv('POSTGRES_PORT')\n",
    "    database = os.getenv('POSTGRES_DB')\n",
    "    \n",
    "    # Vérifier que toutes les variables sont définies\n",
    "    if not all([user, password, port, database]):\n",
    "        print(\"ERREUR : Variables d'environnement manquantes (POSTGRES_USER, POSTGRES_PASSWORD, POSTGRES_PORT, POSTGRES_DB)\")\n",
    "        sys.exit(1)\n",
    "    \n",
    "    connection_url = f'postgresql://{user}:{password}@{host}:{port}/{database}'\n",
    "    \n",
    "    try:\n",
    "        engine = create_engine(connection_url, echo=False)\n",
    "        return engine\n",
    "    except Exception as e:\n",
    "        print(f\"Erreur de connexion à la base : {e}\")\n",
    "        sys.exit(1)\n"
   ]
  },
  {
   "cell_type": "code",
   "execution_count": 5,
   "id": "70bc547f",
   "metadata": {},
   "outputs": [
    {
     "name": "stdout",
     "output_type": "stream",
     "text": [
      "✓ Connexion PostgreSQL établie\n"
     ]
    }
   ],
   "source": [
    "engine = get_db_connection()\n",
    "print(\"✓ Connexion PostgreSQL établie\")"
   ]
  },
  {
   "cell_type": "markdown",
   "id": "6a3480ea",
   "metadata": {},
   "source": [
    "### Python -> Postrgres"
   ]
  },
  {
   "cell_type": "code",
   "execution_count": 6,
   "id": "59744b5a",
   "metadata": {},
   "outputs": [],
   "source": [
    "def insert_new_records(engine):\n",
    "    \"\"\"Insérer deux nouveaux enregistrements dans la table iris\"\"\"\n",
    "    \n",
    "    with engine.connect() as conn:\n",
    "        result = conn.execute(text(\"SELECT COALESCE(MAX(id), 0) as max_id FROM iris\"))\n",
    "        max_id = result.scalar()\n",
    "    \n",
    "    new_data = pd.DataFrame({\n",
    "        'id': [max_id + 1, max_id + 2],\n",
    "        'sepal_length_cm': [5.9, 6.1],\n",
    "        'sepal_width_cm': [2.6, 3.0], \n",
    "        'petal_length_cm': [4.2, 4.7],\n",
    "        'petal_width_cm': [1.1, 1.7],\n",
    "        'species': ['setosa', 'versicolor']\n",
    "    })\n",
    "    \n",
    "    new_data.to_sql(\n",
    "        name='iris',\n",
    "        con=engine,\n",
    "        if_exists='append',\n",
    "        index=False,\n",
    "        method='multi'\n",
    "    )\n",
    "    \n",
    "    print(f\"✓ Insertion de {len(new_data)} nouveaux enregistrements réussie\")"
   ]
  },
  {
   "cell_type": "code",
   "execution_count": 7,
   "id": "90b42ccd",
   "metadata": {},
   "outputs": [
    {
     "name": "stdout",
     "output_type": "stream",
     "text": [
      "✓ Insertion de 2 nouveaux enregistrements réussie\n"
     ]
    }
   ],
   "source": [
    "insert_new_records(engine)"
   ]
  },
  {
   "cell_type": "markdown",
   "id": "4818e9aa",
   "metadata": {},
   "source": [
    "### Postrgres -> Python"
   ]
  },
  {
   "cell_type": "code",
   "execution_count": 14,
   "id": "7491bc1c",
   "metadata": {},
   "outputs": [],
   "source": [
    "import pandas as pd\n",
    "\n",
    "def fetch_last_records(engine, limit=3):\n",
    "    \"\"\"Récupérer les derniers enregistrements de la table iris\"\"\"\n",
    "    \n",
    "    query = \"\"\"\n",
    "    SELECT id, sepal_length_cm, sepal_width_cm, \n",
    "           petal_length_cm, petal_width_cm, species\n",
    "    FROM iris \n",
    "    ORDER BY id DESC \n",
    "    LIMIT %s\n",
    "    \"\"\"\n",
    "    # Passage de 'limit' sous forme de tuple\n",
    "    df_result = pd.read_sql_query(query, engine, params=(limit,))\n",
    "    \n",
    "    print(f\"✓ Les {len(df_result)} derniers enregistrements :\")\n",
    "    return df_result\n"
   ]
  },
  {
   "cell_type": "code",
   "execution_count": 15,
   "id": "73d7f544",
   "metadata": {},
   "outputs": [
    {
     "name": "stdout",
     "output_type": "stream",
     "text": [
      "✓ Les 3 derniers enregistrements :\n"
     ]
    },
    {
     "data": {
      "text/html": [
       "<div>\n",
       "<style scoped>\n",
       "    .dataframe tbody tr th:only-of-type {\n",
       "        vertical-align: middle;\n",
       "    }\n",
       "\n",
       "    .dataframe tbody tr th {\n",
       "        vertical-align: top;\n",
       "    }\n",
       "\n",
       "    .dataframe thead th {\n",
       "        text-align: right;\n",
       "    }\n",
       "</style>\n",
       "<table border=\"1\" class=\"dataframe\">\n",
       "  <thead>\n",
       "    <tr style=\"text-align: right;\">\n",
       "      <th></th>\n",
       "      <th>id</th>\n",
       "      <th>sepal_length_cm</th>\n",
       "      <th>sepal_width_cm</th>\n",
       "      <th>petal_length_cm</th>\n",
       "      <th>petal_width_cm</th>\n",
       "      <th>species</th>\n",
       "    </tr>\n",
       "  </thead>\n",
       "  <tbody>\n",
       "    <tr>\n",
       "      <th>0</th>\n",
       "      <td>154</td>\n",
       "      <td>6.1</td>\n",
       "      <td>3.0</td>\n",
       "      <td>4.7</td>\n",
       "      <td>1.7</td>\n",
       "      <td>versicolor</td>\n",
       "    </tr>\n",
       "    <tr>\n",
       "      <th>1</th>\n",
       "      <td>153</td>\n",
       "      <td>5.9</td>\n",
       "      <td>2.6</td>\n",
       "      <td>4.2</td>\n",
       "      <td>1.1</td>\n",
       "      <td>setosa</td>\n",
       "    </tr>\n",
       "    <tr>\n",
       "      <th>2</th>\n",
       "      <td>152</td>\n",
       "      <td>6.2</td>\n",
       "      <td>3.1</td>\n",
       "      <td>4.8</td>\n",
       "      <td>1.8</td>\n",
       "      <td>versicolor</td>\n",
       "    </tr>\n",
       "  </tbody>\n",
       "</table>\n",
       "</div>"
      ],
      "text/plain": [
       "    id  sepal_length_cm  sepal_width_cm  petal_length_cm  petal_width_cm  \\\n",
       "0  154              6.1             3.0              4.7             1.7   \n",
       "1  153              5.9             2.6              4.2             1.1   \n",
       "2  152              6.2             3.1              4.8             1.8   \n",
       "\n",
       "      species  \n",
       "0  versicolor  \n",
       "1      setosa  \n",
       "2  versicolor  "
      ]
     },
     "execution_count": 15,
     "metadata": {},
     "output_type": "execute_result"
    }
   ],
   "source": [
    "fetch_last_records(engine, limit=3)"
   ]
  },
  {
   "cell_type": "code",
   "execution_count": 16,
   "id": "62577338",
   "metadata": {},
   "outputs": [
    {
     "name": "stdout",
     "output_type": "stream",
     "text": [
      "✓ Connexion fermée\n"
     ]
    }
   ],
   "source": [
    "engine.dispose()\n",
    "print(\"✓ Connexion fermée\")"
   ]
  },
  {
   "cell_type": "markdown",
   "id": "71e6c629",
   "metadata": {},
   "source": [
    "# Mongo"
   ]
  },
  {
   "cell_type": "code",
   "execution_count": 17,
   "id": "5e2918ed",
   "metadata": {},
   "outputs": [],
   "source": [
    "import pymongo\n",
    "from pymongo import MongoClient\n",
    "import os\n",
    "from datetime import datetime"
   ]
  },
  {
   "cell_type": "code",
   "execution_count": 18,
   "id": "68be2b38",
   "metadata": {},
   "outputs": [],
   "source": [
    "# Configuration de connexion (adapter selon vos variables d'environnement)\n",
    "MONGO_HOST = \"mongodb_db\"  # nom du service Docker\n",
    "MONGO_PORT = os.getenv(\"MONGO_PORT\")\n",
    "MONGO_USERNAME = os.getenv(\"MONGO_ROOT_USERNAME\")\n",
    "MONGO_PASSWORD = os.getenv(\"MONGO_ROOT_PASSWORD\")  \n",
    "MONGO_DATABASE = os.getenv(\"MONGO_DB\")"
   ]
  },
  {
   "cell_type": "code",
   "execution_count": 25,
   "id": "84e04394",
   "metadata": {},
   "outputs": [],
   "source": [
    "# Établir la connexion\n",
    "def get_mongo_client():\n",
    "    \"\"\"Créer une connexion authentifiée vers MongoDB\"\"\"\n",
    "    connection_string = f\"mongodb://{MONGO_USERNAME}:{MONGO_PASSWORD}@{MONGO_HOST}:{MONGO_PORT}/{MONGO_DATABASE}?authSource=admin\"\n",
    "    return MongoClient(connection_string)\n"
   ]
  },
  {
   "cell_type": "code",
   "execution_count": 26,
   "id": "46965ca1",
   "metadata": {},
   "outputs": [
    {
     "name": "stdout",
     "output_type": "stream",
     "text": [
      "[INFO] Connexion établie vers la base iris_db\n"
     ]
    }
   ],
   "source": [
    "# Initialiser le client et la collection\n",
    "client = get_mongo_client()\n",
    "db = client[MONGO_DATABASE]\n",
    "collection = db.iris\n",
    "\n",
    "print(f\"[INFO] Connexion établie vers la base {MONGO_DATABASE}\")"
   ]
  },
  {
   "cell_type": "markdown",
   "id": "3c4b89f4",
   "metadata": {},
   "source": [
    "### Python -> MongoDB"
   ]
  },
  {
   "cell_type": "code",
   "execution_count": 27,
   "id": "756441b1",
   "metadata": {},
   "outputs": [],
   "source": [
    "def insert_new_iris_samples():\n",
    "    \"\"\"Insérer deux nouveaux échantillons dans la collection iris\"\"\"\n",
    "    \n",
    "    # Récupérer l'ID maximum actuel pour générer les nouveaux IDs\n",
    "    last_record = collection.find().sort(\"Id\", -1).limit(1)\n",
    "    max_id = list(last_record)[0][\"Id\"] if collection.count_documents({}) > 0 else 0\n",
    "    \n",
    "    # Définir les nouveaux échantillons\n",
    "    new_samples = [\n",
    "        {\n",
    "            \"Id\": max_id + 1,\n",
    "            \"SepalLengthCm\": 6.2,\n",
    "            \"SepalWidthCm\": 3.8,\n",
    "            \"PetalLengthCm\": 4.5,\n",
    "            \"PetalWidthCm\": 1.3,\n",
    "            \"Species\": \"Iris-versicolor\"\n",
    "        },\n",
    "        {\n",
    "            \"Id\": max_id + 2,\n",
    "            \"SepalLengthCm\": 7.1,\n",
    "            \"SepalWidthCm\": 2.9,\n",
    "            \"PetalLengthCm\": 5.8,\n",
    "            \"PetalWidthCm\": 2.1,\n",
    "            \"Species\": \"Iris-virginica\"\n",
    "        }\n",
    "    ]\n",
    "    \n",
    "    # Exécuter l'insertion\n",
    "    try:\n",
    "        result = collection.insert_many(new_samples)\n",
    "        print(f\"[SUCCESS] {len(result.inserted_ids)} échantillons insérés\")\n",
    "        print(f\"[INFO] IDs générés: {result.inserted_ids}\")\n",
    "        return result.inserted_ids\n",
    "    except Exception as e:\n",
    "        print(f\"[ERROR] Échec de l'insertion: {str(e)}\")\n",
    "        return None\n"
   ]
  },
  {
   "cell_type": "code",
   "execution_count": 28,
   "id": "14040609",
   "metadata": {},
   "outputs": [
    {
     "name": "stdout",
     "output_type": "stream",
     "text": [
      "[SUCCESS] 2 échantillons insérés\n",
      "[INFO] IDs générés: [ObjectId('685e45f9bdaf3b9965d5dd6b'), ObjectId('685e45f9bdaf3b9965d5dd6c')]\n"
     ]
    }
   ],
   "source": [
    "# Exécuter l'insertion\n",
    "inserted_ids = insert_new_iris_samples()"
   ]
  },
  {
   "cell_type": "markdown",
   "id": "1c3ceec9",
   "metadata": {},
   "source": [
    "### MongoDB -> Python"
   ]
  },
  {
   "cell_type": "code",
   "execution_count": 29,
   "id": "c5452892",
   "metadata": {},
   "outputs": [],
   "source": [
    "def get_last_iris_samples(limit=3):\n",
    "    \"\"\"Récupérer les N derniers échantillons de la collection\"\"\"\n",
    "    \n",
    "    try:\n",
    "        # Trier par ID décroissant et limiter le résultat\n",
    "        cursor = collection.find().sort(\"Id\", -1).limit(limit)\n",
    "        samples = list(cursor)\n",
    "        \n",
    "        print(f\"[INFO] {len(samples)} derniers échantillons récupérés:\")\n",
    "        print(\"-\" * 80)\n",
    "        \n",
    "        for i, sample in enumerate(samples, 1):\n",
    "            print(f\"Échantillon {i}:\")\n",
    "            print(f\"  ID: {sample['Id']}\")\n",
    "            print(f\"  Sepal: {sample['SepalLengthCm']}cm x {sample['SepalWidthCm']}cm\")\n",
    "            print(f\"  Petal: {sample['PetalLengthCm']}cm x {sample['PetalWidthCm']}cm\")\n",
    "            print(f\"  Espèce: {sample['Species']}\")\n",
    "            print(f\"  ObjectId: {sample['_id']}\")\n",
    "            print(\"-\" * 40)\n",
    "            \n",
    "        return samples\n",
    "        \n",
    "    except Exception as e:\n",
    "        print(f\"[ERROR] Échec de la récupération: {str(e)}\")\n",
    "        return None\n",
    "\n"
   ]
  },
  {
   "cell_type": "code",
   "execution_count": 30,
   "id": "0e7a400e",
   "metadata": {},
   "outputs": [
    {
     "name": "stdout",
     "output_type": "stream",
     "text": [
      "[INFO] 3 derniers échantillons récupérés:\n",
      "--------------------------------------------------------------------------------\n",
      "Échantillon 1:\n",
      "  ID: 154\n",
      "  Sepal: 7.1cm x 2.9cm\n",
      "  Petal: 5.8cm x 2.1cm\n",
      "  Espèce: Iris-virginica\n",
      "  ObjectId: 685e45f9bdaf3b9965d5dd6c\n",
      "----------------------------------------\n",
      "Échantillon 2:\n",
      "  ID: 153\n",
      "  Sepal: 6.2cm x 3.8cm\n",
      "  Petal: 4.5cm x 1.3cm\n",
      "  Espèce: Iris-versicolor\n",
      "  ObjectId: 685e45f9bdaf3b9965d5dd6b\n",
      "----------------------------------------\n",
      "Échantillon 3:\n",
      "  ID: 152\n",
      "  Sepal: 7.1cm x 2.9cm\n",
      "  Petal: 5.8cm x 2.1cm\n",
      "  Espèce: virginica\n",
      "  ObjectId: 685d69040c0b099912335434\n",
      "----------------------------------------\n"
     ]
    }
   ],
   "source": [
    "# Récupérer les 3 derniers échantillons\n",
    "last_samples = get_last_iris_samples(3)"
   ]
  },
  {
   "cell_type": "code",
   "execution_count": 31,
   "id": "0144c834",
   "metadata": {},
   "outputs": [
    {
     "name": "stdout",
     "output_type": "stream",
     "text": [
      "[INFO] Connexion fermée\n"
     ]
    }
   ],
   "source": [
    "client.close()\n",
    "print(\"[INFO] Connexion fermée\")"
   ]
  },
  {
   "cell_type": "markdown",
   "id": "ad3773c4",
   "metadata": {},
   "source": [
    "# Test Ollama"
   ]
  },
  {
   "cell_type": "code",
   "execution_count": null,
   "id": "f76348cf",
   "metadata": {},
   "outputs": [],
   "source": [
    "!conda install requests -q -y"
   ]
  },
  {
   "cell_type": "code",
   "execution_count": 6,
   "id": "b8eb601f",
   "metadata": {},
   "outputs": [
    {
     "name": "stdout",
     "output_type": "stream",
     "text": [
      "✅ Connexion Ollama réussie\n",
      "Modèles disponibles: ['phi4-mini:latest']\n"
     ]
    }
   ],
   "source": [
    "import requests\n",
    "\n",
    "def test_ollama_connection():\n",
    "    try:\n",
    "        # Utiliser l'adresse IP du service Ollama ou le nom d'hôte correct\n",
    "        response = requests.get(\"http://ollama:11434/api/tags\")\n",
    "        if response.status_code == 200:\n",
    "            models = response.json()\n",
    "            print(\"✅ Connexion Ollama réussie\")\n",
    "            print(\"Modèles disponibles:\", [model['name'] for model in models.get('models', [])])\n",
    "        else:\n",
    "            print(\"❌ Erreur de connexion:\", response.status_code)\n",
    "    except Exception as e:\n",
    "        print(\"❌ Erreur de connexion:\", e)\n",
    "\n",
    "test_ollama_connection()"
   ]
  },
  {
   "cell_type": "code",
   "execution_count": 7,
   "id": "946647d4",
   "metadata": {},
   "outputs": [
    {
     "name": "stdout",
     "output_type": "stream",
     "text": [
      "Je m'appelle Phi, une intelligence artificielle développée par Microsoft pour vous aider à répondre aux questions et fournir des informations. Comment puis-je vous assister aujourd'hui ?\n"
     ]
    }
   ],
   "source": [
    "import requests\n",
    "import json\n",
    "\n",
    "# Test de connexion à Ollama\n",
    "def test_ollama():\n",
    "    url = \"http://ollama:11434/api/generate\"\n",
    "    data = {\n",
    "        \"model\": \"phi4-mini:latest\", # phi4-mini:latest  granite3-dense:2b\n",
    "        \"prompt\": \"Peux tu te présenter?\",\n",
    "        \"stream\": False\n",
    "    }\n",
    "    \n",
    "    response = requests.post(url, json=data)\n",
    "    if response.status_code == 200:\n",
    "        return response.json()['response']\n",
    "    else:\n",
    "        return f\"Erreur: {response.status_code}\"\n",
    "\n",
    "# Utilisation\n",
    "result = test_ollama()\n",
    "print(result)\n"
   ]
  },
  {
   "cell_type": "markdown",
   "id": "2c24662a",
   "metadata": {},
   "source": [
    "# MINIO"
   ]
  },
  {
   "cell_type": "code",
   "execution_count": null,
   "id": "b78f64b4",
   "metadata": {},
   "outputs": [],
   "source": [
    "from minio import Minio\n",
    "from minio.error import S3Error\n",
    "from PIL import Image\n",
    "import io\n",
    "\n",
    "# 1. Créer une image noire (100x100)\n",
    "img = Image.new('RGB', (100, 100), color='black')\n",
    "buffer = io.BytesIO()\n",
    "img.save(buffer, format=\"JPEG\")\n",
    "buffer.seek(0)\n",
    "\n",
    "# 2. Connexion au client MinIO\n",
    "client = Minio(\n",
    "    endpoint=\"localhost:9000\",  # Adapter si conteneur\n",
    "    access_key=\"minioadmin\",\n",
    "    secret_key=\"minioadmin123\",\n",
    "    secure=False\n",
    ")\n",
    "\n",
    "# 3. Créer le bucket s'il n'existe pas\n",
    "bucket_name = \"images\"\n",
    "if not client.bucket_exists(bucket_name):\n",
    "    client.make_bucket(bucket_name)\n",
    "\n",
    "# 4. Upload de l'image noire\n",
    "object_name = \"generated_image.jpg\"\n",
    "client.put_object(\n",
    "    bucket_name=bucket_name,\n",
    "    object_name=object_name,\n",
    "    data=buffer,\n",
    "    length=buffer.getbuffer().nbytes,\n",
    "    content_type=\"image/jpeg\"\n",
    ")\n",
    "\n",
    "print(f\"✅ Image '{object_name}' uploadée dans le bucket '{bucket_name}'\")\n"
   ]
  }
 ],
 "metadata": {
  "kernelspec": {
   "display_name": "mon_env_test",
   "language": "python",
   "name": "python3"
  },
  "language_info": {
   "codemirror_mode": {
    "name": "ipython",
    "version": 3
   },
   "file_extension": ".py",
   "mimetype": "text/x-python",
   "name": "python",
   "nbconvert_exporter": "python",
   "pygments_lexer": "ipython3",
   "version": "3.11.13"
  }
 },
 "nbformat": 4,
 "nbformat_minor": 5
}
